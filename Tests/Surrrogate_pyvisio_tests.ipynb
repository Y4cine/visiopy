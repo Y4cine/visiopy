{
 "cells": [
  {
   "cell_type": "code",
   "execution_count": 3,
   "id": "2c5f2363-f9d5-4a85-9c33-55832d541932",
   "metadata": {},
   "outputs": [
    {
     "name": "stdout",
     "output_type": "stream",
     "text": [
      "Retrieved CLSIDs: ['{{00021A98-0000-0000-C000-000000000046}}', '{00021A20-0000-0000-C000-000000000046}']\n",
      "Processing moniker: C:\\Forum_BU\\alk.vsd\n",
      "Processing moniker: !{0006F03A-0000-0000-C000-000000000046}\n",
      "Processing moniker: !{00021A20-0000-0000-C000-000000000046}\n",
      "Moniker for unsaved document encountered: !{00021A20-0000-0000-C000-000000000046}. Please save the document.\n",
      "Processing moniker: !{A12A21B3-CFDA-497E-98C0-CE60D4D108C8}\n",
      "Processing moniker: !{9AAF0EB6-42D8-46C1-A2EF-679511B37A0D}\n",
      "Retrieved CLSIDs: ['{{00021A98-0000-0000-C000-000000000046}}', '{00021A20-0000-0000-C000-000000000046}']\n",
      "Processing moniker: C:\\Forum_BU\\alk.vsd\n",
      "Processing moniker: !{0006F03A-0000-0000-C000-000000000046}\n",
      "Processing moniker: !{00021A20-0000-0000-C000-000000000046}\n",
      "Moniker for unsaved document encountered: !{00021A20-0000-0000-C000-000000000046}. Please save the document.\n",
      "Processing moniker: !{A12A21B3-CFDA-497E-98C0-CE60D4D108C8}\n",
      "Processing moniker: !{9AAF0EB6-42D8-46C1-A2EF-679511B37A0D}\n"
     ]
    },
    {
     "ename": "ValueError",
     "evalue": "Invalid document index.",
     "output_type": "error",
     "traceback": [
      "\u001b[1;31m---------------------------------------------------------------------------\u001b[0m",
      "\u001b[1;31mValueError\u001b[0m                                Traceback (most recent call last)",
      "Cell \u001b[1;32mIn[3], line 6\u001b[0m\n\u001b[0;32m      3\u001b[0m loaded_docs()\n\u001b[0;32m      4\u001b[0m \u001b[38;5;66;03m# to display your open Visio files\u001b[39;00m\n\u001b[1;32m----> 6\u001b[0m vInit(\u001b[38;5;241m0\u001b[39m, globals_dict \u001b[38;5;241m=\u001b[39m \u001b[38;5;28mglobals\u001b[39m())\n\u001b[0;32m      7\u001b[0m \u001b[38;5;66;03m# connects to the first document as displayed above.\u001b[39;00m\n\u001b[0;32m      9\u001b[0m shps \u001b[38;5;241m=\u001b[39m [shp \u001b[38;5;28;01mfor\u001b[39;00m shp \u001b[38;5;129;01min\u001b[39;00m vPg\u001b[38;5;241m.\u001b[39mShapes]\n",
      "File \u001b[1;32mC:\\anaconda\\Lib\\site-packages\\visiopy\\visio_connect.py:87\u001b[0m, in \u001b[0;36mvInit\u001b[1;34m(index, filename, new, template, globals_dict, suffix)\u001b[0m\n\u001b[0;32m     74\u001b[0m \u001b[38;5;250m\u001b[39m\u001b[38;5;124;03m\"\"\"\u001b[39;00m\n\u001b[0;32m     75\u001b[0m \u001b[38;5;124;03mInitialize the Visio application and set global variables for vApp, vDoc, vPg, and vWin.\u001b[39;00m\n\u001b[0;32m     76\u001b[0m \n\u001b[1;32m   (...)\u001b[0m\n\u001b[0;32m     84\u001b[0m \u001b[38;5;124;03m- alternative method: vApp, vDoc, vPg, vWin = vInit(...) - without globals_dict\u001b[39;00m\n\u001b[0;32m     85\u001b[0m \u001b[38;5;124;03m\"\"\"\u001b[39;00m\n\u001b[0;32m     86\u001b[0m \u001b[38;5;28;01mif\u001b[39;00m index \u001b[38;5;129;01mis\u001b[39;00m \u001b[38;5;129;01mnot\u001b[39;00m \u001b[38;5;28;01mNone\u001b[39;00m:\n\u001b[1;32m---> 87\u001b[0m     doc \u001b[38;5;241m=\u001b[39m loaded_docs(index)\n\u001b[0;32m     88\u001b[0m \u001b[38;5;28;01melif\u001b[39;00m filename \u001b[38;5;129;01mis\u001b[39;00m \u001b[38;5;129;01mnot\u001b[39;00m \u001b[38;5;28;01mNone\u001b[39;00m:\n\u001b[0;32m     89\u001b[0m     doc \u001b[38;5;241m=\u001b[39m get_or_open_visio_file(filename)\n",
      "File \u001b[1;32mC:\\anaconda\\Lib\\site-packages\\visiopy\\visio_connect.py:65\u001b[0m, in \u001b[0;36mloaded_docs\u001b[1;34m(index)\u001b[0m\n\u001b[0;32m     63\u001b[0m         \u001b[38;5;28;01mreturn\u001b[39;00m docs[index]\n\u001b[0;32m     64\u001b[0m     \u001b[38;5;28;01melse\u001b[39;00m:\n\u001b[1;32m---> 65\u001b[0m         \u001b[38;5;28;01mraise\u001b[39;00m \u001b[38;5;167;01mValueError\u001b[39;00m(\u001b[38;5;124m\"\u001b[39m\u001b[38;5;124mInvalid document index.\u001b[39m\u001b[38;5;124m\"\u001b[39m)\n\u001b[0;32m     67\u001b[0m \u001b[38;5;28;01mfor\u001b[39;00m i, doc \u001b[38;5;129;01min\u001b[39;00m \u001b[38;5;28menumerate\u001b[39m(docs):\n\u001b[0;32m     68\u001b[0m     \u001b[38;5;28mprint\u001b[39m(\u001b[38;5;124mf\u001b[39m\u001b[38;5;124m\"\u001b[39m\u001b[38;5;132;01m{\u001b[39;00mi\u001b[38;5;132;01m}\u001b[39;00m\u001b[38;5;124m: \u001b[39m\u001b[38;5;132;01m{\u001b[39;00mdoc\u001b[38;5;241m.\u001b[39mFullName\u001b[38;5;132;01m}\u001b[39;00m\u001b[38;5;124m\"\u001b[39m)\n",
      "\u001b[1;31mValueError\u001b[0m: Invalid document index."
     ]
    }
   ],
   "source": [
    "from visiopy import loaded_docs, vInit\n",
    "\n",
    "loaded_docs()\n",
    "# to display your open Visio files\n",
    "\n",
    "vInit(0, globals_dict = globals())\n",
    "# connects to the first document as displayed above.\n",
    "\n",
    "shps = [shp for shp in vPg.Shapes]\n",
    "for shp in shps:\n",
    "  print(shp.ID)\n",
    "  shp.Cells(\"PinX\").Formula = int(shp.Cells(\"PinX\").ResultInt(\"mm\")*10)/10 + \"mm\"\n",
    "  shp.Cells(\"PinY\").Formula = int(shp.Cells(\"PinY\").ResultInt(\"mm\")*10)/10 + \"mm\""
   ]
  },
  {
   "cell_type": "code",
   "execution_count": null,
   "id": "2fc9ad4d-5d4d-40e7-bf9c-5bd434e7ca72",
   "metadata": {},
   "outputs": [],
   "source": []
  },
  {
   "cell_type": "code",
   "execution_count": null,
   "id": "0e69457d-c701-48a3-b45d-0e29756d1c74",
   "metadata": {},
   "outputs": [],
   "source": []
  },
  {
   "cell_type": "code",
   "execution_count": null,
   "id": "43574ce3-8747-431c-9f65-f8111a3afa06",
   "metadata": {},
   "outputs": [],
   "source": []
  }
 ],
 "metadata": {
  "kernelspec": {
   "display_name": "Python 3 (ipykernel)",
   "language": "python",
   "name": "python3"
  },
  "language_info": {
   "codemirror_mode": {
    "name": "ipython",
    "version": 3
   },
   "file_extension": ".py",
   "mimetype": "text/x-python",
   "name": "python",
   "nbconvert_exporter": "python",
   "pygments_lexer": "ipython3",
   "version": "3.11.5"
  }
 },
 "nbformat": 4,
 "nbformat_minor": 5
}
