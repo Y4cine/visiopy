{
 "cells": [
  {
   "cell_type": "code",
   "execution_count": 16,
   "metadata": {},
   "outputs": [],
   "source": [
    "import sys\n",
    "sys.path.append(r'D:\\Entwicklung\\visiopy\\visiopy')\n",
    "sys.path.append(r'D:\\Entwicklung\\visiopy')"
   ]
  },
  {
   "cell_type": "code",
   "execution_count": 19,
   "metadata": {},
   "outputs": [],
   "source": [
    "from visiopy import vDocs, vInit"
   ]
  },
  {
   "cell_type": "code",
   "execution_count": 20,
   "metadata": {},
   "outputs": [
    {
     "ename": "TclError",
     "evalue": "can't invoke \"destroy\" command: application has been destroyed",
     "output_type": "error",
     "traceback": [
      "\u001b[1;31m---------------------------------------------------------------------------\u001b[0m",
      "\u001b[1;31mTclError\u001b[0m                                  Traceback (most recent call last)",
      "Cell \u001b[1;32mIn[20], line 1\u001b[0m\n\u001b[1;32m----> 1\u001b[0m vInit()\n",
      "File \u001b[1;32mD:\\Entwicklung\\visiopy\\visiopy\\visio_connect.py:90\u001b[0m, in \u001b[0;36mvInit\u001b[1;34m(index, filename, new, template, globals_dict, suffix)\u001b[0m\n\u001b[0;32m     88\u001b[0m # If no parameters are passed, open the tkinter document manager\n\u001b[0;32m     89\u001b[0m if index is None and filename is None and not new and template is None:\n\u001b[1;32m---> 90\u001b[0m     result = document_manager()\n\u001b[0;32m     91\u001b[0m     if 'doc' in result:\n\u001b[0;32m     92\u001b[0m         doc = vDocs(result['doc'])  # Use the selected document index\n",
      "File \u001b[1;32mD:\\Entwicklung\\visiopy\\visiopy\\visio_connect.py:253\u001b[0m, in \u001b[0;36mdocument_manager\u001b[1;34m()\u001b[0m\n\u001b[0;32m    251\u001b[0m tk.Button(root, text=\"Close\", command=close_form).pack(pady=10)\n\u001b[0;32m    252\u001b[0m \n\u001b[1;32m--> 253\u001b[0m root.mainloop()\n\u001b[0;32m    254\u001b[0m root.destroy()\n\u001b[0;32m    255\u001b[0m return result\n",
      "File \u001b[1;32md:\\miniconda3\\envs\\YG1\\Lib\\tkinter\\__init__.py:2368\u001b[0m, in \u001b[0;36mTk.destroy\u001b[1;34m(self)\u001b[0m\n\u001b[0;32m   2365\u001b[0m \u001b[38;5;250m\u001b[39m\u001b[38;5;124;03m\"\"\"Destroy this and all descendants widgets. This will\u001b[39;00m\n\u001b[0;32m   2366\u001b[0m \u001b[38;5;124;03mend the application of this Tcl interpreter.\"\"\"\u001b[39;00m\n\u001b[0;32m   2367\u001b[0m \u001b[38;5;28;01mfor\u001b[39;00m c \u001b[38;5;129;01min\u001b[39;00m \u001b[38;5;28mlist\u001b[39m(\u001b[38;5;28mself\u001b[39m\u001b[38;5;241m.\u001b[39mchildren\u001b[38;5;241m.\u001b[39mvalues()): c\u001b[38;5;241m.\u001b[39mdestroy()\n\u001b[1;32m-> 2368\u001b[0m \u001b[38;5;28mself\u001b[39m\u001b[38;5;241m.\u001b[39mtk\u001b[38;5;241m.\u001b[39mcall(\u001b[38;5;124m'\u001b[39m\u001b[38;5;124mdestroy\u001b[39m\u001b[38;5;124m'\u001b[39m, \u001b[38;5;28mself\u001b[39m\u001b[38;5;241m.\u001b[39m_w)\n\u001b[0;32m   2369\u001b[0m Misc\u001b[38;5;241m.\u001b[39mdestroy(\u001b[38;5;28mself\u001b[39m)\n\u001b[0;32m   2370\u001b[0m \u001b[38;5;28;01mglobal\u001b[39;00m _default_root\n",
      "\u001b[1;31mTclError\u001b[0m: can't invoke \"destroy\" command: application has been destroyed"
     ]
    }
   ],
   "source": [
    "vInit()"
   ]
  },
  {
   "cell_type": "code",
   "execution_count": 21,
   "metadata": {},
   "outputs": [
    {
     "name": "stdout",
     "output_type": "stream",
     "text": [
      "Retrieved CLSIDs: ['{{00021A98-0000-0000-C000-000000000046}}', '{00021A20-0000-0000-C000-000000000046}']\n",
      "Processing moniker: D:\\HO\\Medienplan_14\\Drawing_2024_08_17.vsdx\n",
      "Processing moniker: !{0006F03A-0000-0000-C000-000000000046}\n",
      "Processing moniker: !{00021A20-0000-0000-C000-000000000046}\n",
      "Moniker for unsaved document encountered: !{00021A20-0000-0000-C000-000000000046}. Please save the document.\n",
      "0: D:\\HO\\Medienplan_14\\Drawing_2024_08_17.vsdx\n",
      "You can connect to one of the documents with \"vInit(n, globals_dict = globals())\". n being the number of the document in the list above.\n"
     ]
    },
    {
     "data": {
      "text/plain": [
       "[<win32com.gen_py.Microsoft Visio 16.0 Type Library.IVDocument instance at 0x1505799577040>]"
      ]
     },
     "execution_count": 21,
     "metadata": {},
     "output_type": "execute_result"
    }
   ],
   "source": [
    "vDocs()"
   ]
  },
  {
   "cell_type": "code",
   "execution_count": 22,
   "metadata": {},
   "outputs": [
    {
     "name": "stdout",
     "output_type": "stream",
     "text": [
      "Retrieved CLSIDs: ['{{00021A98-0000-0000-C000-000000000046}}', '{00021A20-0000-0000-C000-000000000046}']\n",
      "Processing moniker: D:\\HO\\Medienplan_14\\Drawing_2024_08_17.vsdx\n",
      "Processing moniker: !{0006F03A-0000-0000-C000-000000000046}\n",
      "Processing moniker: !{00021A20-0000-0000-C000-000000000046}\n",
      "Moniker for unsaved document encountered: !{00021A20-0000-0000-C000-000000000046}. Please save the document.\n",
      "Instantiated the variables vApp, vDoc, vPg and vWin for the document Drawing_2024_08_17.vsdx, \n",
      "as well as the variable c for the Visio constants\n"
     ]
    },
    {
     "data": {
      "text/plain": [
       "(<win32com.gen_py.Microsoft Visio 16.0 Type Library.IVApplication instance at 0x1505799577296>,\n",
       " <win32com.gen_py.Microsoft Visio 16.0 Type Library.IVDocument instance at 0x1505799546064>,\n",
       " <win32com.gen_py.Microsoft Visio 16.0 Type Library.IVPage instance at 0x1505690088464>,\n",
       " <win32com.gen_py.Microsoft Visio 16.0 Type Library.IVWindow instance at 0x1505799579024>)"
      ]
     },
     "execution_count": 22,
     "metadata": {},
     "output_type": "execute_result"
    }
   ],
   "source": [
    "vInit(index=0,globals_dict=globals())"
   ]
  },
  {
   "cell_type": "code",
   "execution_count": 13,
   "metadata": {},
   "outputs": [
    {
     "ename": "TclError",
     "evalue": "can't invoke \"destroy\" command: application has been destroyed",
     "output_type": "error",
     "traceback": [
      "\u001b[1;31m---------------------------------------------------------------------------\u001b[0m",
      "\u001b[1;31mTclError\u001b[0m                                  Traceback (most recent call last)",
      "Cell \u001b[1;32mIn[13], line 1\u001b[0m\n\u001b[1;32m----> 1\u001b[0m vInit()\n",
      "File \u001b[1;32mD:\\Entwicklung\\visiopy\\visiopy\\visio_connect.py:90\u001b[0m, in \u001b[0;36mvInit\u001b[1;34m(index, filename, new, template, globals_dict, suffix)\u001b[0m\n\u001b[0;32m     88\u001b[0m # If no parameters are passed, open the tkinter document manager\n\u001b[0;32m     89\u001b[0m if index is None and filename is None and not new and template is None:\n\u001b[1;32m---> 90\u001b[0m     result = document_manager()\n\u001b[0;32m     91\u001b[0m     if 'doc' in result:\n\u001b[0;32m     92\u001b[0m         doc = vDocs(result['doc'])  # Use the selected document index\n",
      "File \u001b[1;32mD:\\Entwicklung\\visiopy\\visiopy\\visio_connect.py:253\u001b[0m, in \u001b[0;36mdocument_manager\u001b[1;34m()\u001b[0m\n\u001b[0;32m    251\u001b[0m tk.Button(root, text=\"Close\", command=close_form).pack(pady=10)\n\u001b[0;32m    252\u001b[0m \n\u001b[1;32m--> 253\u001b[0m root.mainloop()\n\u001b[0;32m    254\u001b[0m root.destroy()\n\u001b[0;32m    255\u001b[0m return result\n",
      "File \u001b[1;32md:\\miniconda3\\envs\\YG1\\Lib\\tkinter\\__init__.py:2368\u001b[0m, in \u001b[0;36mTk.destroy\u001b[1;34m(self)\u001b[0m\n\u001b[0;32m   2365\u001b[0m \u001b[38;5;250m\u001b[39m\u001b[38;5;124;03m\"\"\"Destroy this and all descendants widgets. This will\u001b[39;00m\n\u001b[0;32m   2366\u001b[0m \u001b[38;5;124;03mend the application of this Tcl interpreter.\"\"\"\u001b[39;00m\n\u001b[0;32m   2367\u001b[0m \u001b[38;5;28;01mfor\u001b[39;00m c \u001b[38;5;129;01min\u001b[39;00m \u001b[38;5;28mlist\u001b[39m(\u001b[38;5;28mself\u001b[39m\u001b[38;5;241m.\u001b[39mchildren\u001b[38;5;241m.\u001b[39mvalues()): c\u001b[38;5;241m.\u001b[39mdestroy()\n\u001b[1;32m-> 2368\u001b[0m \u001b[38;5;28mself\u001b[39m\u001b[38;5;241m.\u001b[39mtk\u001b[38;5;241m.\u001b[39mcall(\u001b[38;5;124m'\u001b[39m\u001b[38;5;124mdestroy\u001b[39m\u001b[38;5;124m'\u001b[39m, \u001b[38;5;28mself\u001b[39m\u001b[38;5;241m.\u001b[39m_w)\n\u001b[0;32m   2369\u001b[0m Misc\u001b[38;5;241m.\u001b[39mdestroy(\u001b[38;5;28mself\u001b[39m)\n\u001b[0;32m   2370\u001b[0m \u001b[38;5;28;01mglobal\u001b[39;00m _default_root\n",
      "\u001b[1;31mTclError\u001b[0m: can't invoke \"destroy\" command: application has been destroyed"
     ]
    }
   ],
   "source": [
    "vInit()"
   ]
  },
  {
   "cell_type": "code",
   "execution_count": 12,
   "metadata": {},
   "outputs": [
    {
     "ename": "NameError",
     "evalue": "name 'vPg' is not defined",
     "output_type": "error",
     "traceback": [
      "\u001b[1;31m---------------------------------------------------------------------------\u001b[0m",
      "\u001b[1;31mNameError\u001b[0m                                 Traceback (most recent call last)",
      "Cell \u001b[1;32mIn[12], line 2\u001b[0m\n\u001b[0;32m      1\u001b[0m lyrs \u001b[38;5;241m=\u001b[39m []\n\u001b[1;32m----> 2\u001b[0m \u001b[38;5;28;01mfor\u001b[39;00m lyr \u001b[38;5;129;01min\u001b[39;00m vPg\u001b[38;5;241m.\u001b[39mLayers:\n\u001b[0;32m      3\u001b[0m     \u001b[38;5;28mprint\u001b[39m(lyr\u001b[38;5;241m.\u001b[39mName, lyr\u001b[38;5;241m.\u001b[39mIndex)\n",
      "\u001b[1;31mNameError\u001b[0m: name 'vPg' is not defined"
     ]
    }
   ],
   "source": [
    "lyrs = []\n",
    "for lyr in vPg.Layers:\n",
    "    print(lyr.Name, lyr.Index)"
   ]
  },
  {
   "cell_type": "code",
   "execution_count": null,
   "metadata": {},
   "outputs": [],
   "source": [
    "sel = [shp for shp in vWin.Selection]\n",
    "len(sel)"
   ]
  },
  {
   "cell_type": "code",
   "execution_count": null,
   "metadata": {},
   "outputs": [],
   "source": [
    "for shp in sel:\n",
    "    shp.Cells('height').Formula = '150 mm'"
   ]
  },
  {
   "cell_type": "code",
   "execution_count": null,
   "metadata": {},
   "outputs": [],
   "source": []
  }
 ],
 "metadata": {
  "kernelspec": {
   "display_name": "YG1",
   "language": "python",
   "name": "python3"
  },
  "language_info": {
   "codemirror_mode": {
    "name": "ipython",
    "version": 3
   },
   "file_extension": ".py",
   "mimetype": "text/x-python",
   "name": "python",
   "nbconvert_exporter": "python",
   "pygments_lexer": "ipython3",
   "version": "3.11.3"
  }
 },
 "nbformat": 4,
 "nbformat_minor": 2
}
