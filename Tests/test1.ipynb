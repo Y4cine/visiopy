{
 "cells": [
  {
   "cell_type": "code",
   "execution_count": 1,
   "metadata": {},
   "outputs": [],
   "source": [
    "from visiopy import loaded_docs, vInit"
   ]
  },
  {
   "cell_type": "code",
   "execution_count": 2,
   "metadata": {},
   "outputs": [
    {
     "name": "stdout",
     "output_type": "stream",
     "text": [
      "0: Q:\\SCO\\Aufträge\\Auftragsmappen_aktuell\\Mondelez SRICITY 610446 Indien 2024\\10_Medienplan\\Arbeitsordner\\8-210-011-263 PID VPL V610446 MDLZ IND SriCity.vsdx\n"
     ]
    },
    {
     "data": {
      "text/plain": [
       "[<win32com.gen_py.Microsoft Visio 16.0 Type Library.IVDocument instance at 0x2643259894480>]"
      ]
     },
     "execution_count": 2,
     "metadata": {},
     "output_type": "execute_result"
    }
   ],
   "source": [
    "loaded_docs()"
   ]
  },
  {
   "cell_type": "code",
   "execution_count": 3,
   "metadata": {},
   "outputs": [
    {
     "name": "stdout",
     "output_type": "stream",
     "text": [
      "Instantiated the variables vApp, vDoc, vPg and vWin for the document 8-210-011-263 PID VPL V610446 MDLZ IND SriCity.vsdx, \n",
      "as well as the variable c for the Visio constants\n"
     ]
    },
    {
     "data": {
      "text/plain": [
       "(<win32com.gen_py.Microsoft Visio 16.0 Type Library.IVApplication instance at 0x2643266108816>,\n",
       " <win32com.gen_py.Microsoft Visio 16.0 Type Library.IVDocument instance at 0x2643266108496>,\n",
       " <win32com.gen_py.Microsoft Visio 16.0 Type Library.IVPage instance at 0x2643266108752>,\n",
       " <win32com.gen_py.Microsoft Visio 16.0 Type Library.IVWindow instance at 0x2643266108624>)"
      ]
     },
     "execution_count": 3,
     "metadata": {},
     "output_type": "execute_result"
    }
   ],
   "source": [
    "vInit(index=0,globals_dict=globals())"
   ]
  },
  {
   "cell_type": "code",
   "execution_count": 10,
   "metadata": {},
   "outputs": [
    {
     "name": "stdout",
     "output_type": "stream",
     "text": [
      "Verbinder 1\n",
      "flag 2\n",
      "Red 3\n",
      "Tempering 4\n",
      "Connector 5\n",
      "New 6\n",
      "Rohrleitungen 7\n",
      "manualIngredients 8\n",
      "Comment 9\n"
     ]
    }
   ],
   "source": [
    "lyrs = []\n",
    "for lyr in vPg.Layers:\n",
    "    print(lyr.Name, lyr.Index)"
   ]
  },
  {
   "cell_type": "code",
   "execution_count": 11,
   "metadata": {},
   "outputs": [
    {
     "data": {
      "text/plain": [
       "22"
      ]
     },
     "execution_count": 11,
     "metadata": {},
     "output_type": "execute_result"
    }
   ],
   "source": [
    "sel = [shp for shp in vWin.Selection]\n",
    "len(sel)"
   ]
  },
  {
   "cell_type": "code",
   "execution_count": 15,
   "metadata": {},
   "outputs": [],
   "source": [
    "for shp in sel:\n",
    "    shp.Cells('height').Formula = '150 mm'\n",
    "    "
   ]
  },
  {
   "cell_type": "code",
   "execution_count": null,
   "metadata": {},
   "outputs": [],
   "source": []
  }
 ],
 "metadata": {
  "kernelspec": {
   "display_name": "YG1",
   "language": "python",
   "name": "python3"
  },
  "language_info": {
   "codemirror_mode": {
    "name": "ipython",
    "version": 3
   },
   "file_extension": ".py",
   "mimetype": "text/x-python",
   "name": "python",
   "nbconvert_exporter": "python",
   "pygments_lexer": "ipython3",
   "version": "3.11.3"
  }
 },
 "nbformat": 4,
 "nbformat_minor": 2
}
