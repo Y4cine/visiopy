{
 "cells": [
  {
   "cell_type": "code",
   "execution_count": 1,
   "metadata": {},
   "outputs": [],
   "source": [
    "from visiopy import vDocs, vInit"
   ]
  },
  {
   "cell_type": "code",
   "execution_count": 3,
   "metadata": {},
   "outputs": [
    {
     "name": "stdout",
     "output_type": "stream",
     "text": [
      "Instantiated the variables vApp, vDoc, vPg and vWin for the document Drawing1, \n",
      "as well as the variable c for the Visio constants\n"
     ]
    },
    {
     "data": {
      "text/plain": [
       "(<win32com.gen_py.Microsoft Visio 16.0 Type Library.IVApplication instance at 0x2858488335760>,\n",
       " <win32com.gen_py.Microsoft Visio 16.0 Type Library.IVDocument instance at 0x2858487854608>,\n",
       " <win32com.gen_py.Microsoft Visio 16.0 Type Library.IVPage instance at 0x2858488532752>,\n",
       " <win32com.gen_py.Microsoft Visio 16.0 Type Library.IVWindow instance at 0x2858488534224>)"
      ]
     },
     "execution_count": 3,
     "metadata": {},
     "output_type": "execute_result"
    }
   ],
   "source": [
    "# creating a blank drawing\n",
    "vInit(new=True, globals_dict=globals())"
   ]
  },
  {
   "cell_type": "code",
   "execution_count": 6,
   "metadata": {},
   "outputs": [
    {
     "data": {
      "text/plain": [
       "0"
      ]
     },
     "execution_count": 6,
     "metadata": {},
     "output_type": "execute_result"
    }
   ],
   "source": [
    "vDoc.SaveAs(FileName=r'D:\\Temp\\test_drawing.vsdx')"
   ]
  },
  {
   "cell_type": "markdown",
   "metadata": {},
   "source": [
    "### Let's setup the page\n",
    "Example: Landscape, A3, Fixed grid of 2.5 mm  \n",
    "How?  \n",
    "If you don't know the right code commands, do them first in Visio's interface and\n",
    "- record a macro\n",
    "- or consult the page's shapesheet\n",
    "\n",
    "In the shapesheet look after the modified cells. They have a blue font as oppsite to the unchange black ones.  \n",
    "For this example I identified: PageWidth, PageHeight, DrawingResizeType (no automatic resize), XGridSpacing, YGridSpacing.  "
   ]
  },
  {
   "cell_type": "code",
   "execution_count": 9,
   "metadata": {},
   "outputs": [],
   "source": [
    "# Fast creation of lists from strings and use in loops, instead of writing 5 times vPg...\n",
    "\n",
    "cells = \"PageWidth,PageHeight,DrawingResizeType,XGridSpacing,YGridSpacing\".split(',')\n",
    "vals = '420mm,297mm,2,2.5mm,2.5mm'.split(',')\n",
    "for i in range(5):\n",
    "    vPg.PageSheet.Cells(cells[i]).Formula = vals[i]"
   ]
  },
  {
   "cell_type": "markdown",
   "metadata": {},
   "source": [
    "### Working with vWin\n",
    "The active window of Visio. I have actually only two use cases for this object:\n",
    "- Working on ActiveWindow.Selection (or the linked command select(...))\n",
    "- Zoom and Pan to show the user certain shapes\n",
    "\n",
    "Let's try the selection. To do so we would need something to select.\n"
   ]
  },
  {
   "cell_type": "code",
   "execution_count": 12,
   "metadata": {},
   "outputs": [
    {
     "data": {
      "text/plain": [
       "(16.53543307086614, 11.692913385826772)"
      ]
     },
     "execution_count": 12,
     "metadata": {},
     "output_type": "execute_result"
    }
   ],
   "source": [
    "W = vPg.PageSheet.Cells('PageWidth').ResultIU\n",
    "H = vPg.PageSheet.Cells('PageHeight').ResultIU\n",
    "W,H"
   ]
  },
  {
   "cell_type": "code",
   "execution_count": 20,
   "metadata": {},
   "outputs": [],
   "source": [
    "def mm2IU(x):\n",
    "    return x / 25.4"
   ]
  },
  {
   "cell_type": "code",
   "execution_count": 21,
   "metadata": {},
   "outputs": [
    {
     "name": "stdout",
     "output_type": "stream",
     "text": [
      "0.7874015748031497 0.7874015748031497 0.1968503937007874 0.1968503937007874\n"
     ]
    }
   ],
   "source": [
    "# spacing\n",
    "dx = mm2IU(20)\n",
    "dy = mm2IU(20)\n",
    "\n",
    "# size\n",
    "lx = mm2IU(5)\n",
    "ly = mm2IU(5)\n",
    "\n",
    "print(dx, dy, lx, ly)"
   ]
  },
  {
   "cell_type": "code",
   "execution_count": 23,
   "metadata": {},
   "outputs": [],
   "source": [
    "for i in range(200):\n",
    "    x = (i * dx) % (W - 2 * dx) + dx\n",
    "    y = int(i / W) * dy + dy\n",
    "    # print(x,y)\n",
    "    vPg.DrawRectangle(x, y, x + lx, y + ly)"
   ]
  },
  {
   "cell_type": "markdown",
   "metadata": {},
   "source": [
    "Now select a bunch of shapes and run the code below."
   ]
  },
  {
   "cell_type": "code",
   "execution_count": 24,
   "metadata": {},
   "outputs": [],
   "source": [
    "for shp in vWin.Selection:\n",
    "    shp.Cells('FillForegnd').Formula = 3"
   ]
  },
  {
   "cell_type": "markdown",
   "metadata": {},
   "source": [
    "And if this operations proof to be useful and you want to re-use it, put in a function."
   ]
  },
  {
   "cell_type": "code",
   "execution_count": 25,
   "metadata": {},
   "outputs": [],
   "source": [
    "def selection_colorize(color):\n",
    "    for shp in vWin.Selection:\n",
    "        shp.Cells('FillForegnd').Formula = color"
   ]
  },
  {
   "cell_type": "code",
   "execution_count": 26,
   "metadata": {},
   "outputs": [],
   "source": [
    "selection_colorize(5)"
   ]
  },
  {
   "cell_type": "code",
   "execution_count": null,
   "metadata": {
    "vscode": {
     "languageId": "html"
    }
   },
   "outputs": [],
   "source": []
  }
 ],
 "metadata": {
  "kernelspec": {
   "display_name": "YG1",
   "language": "python",
   "name": "python3"
  },
  "language_info": {
   "codemirror_mode": {
    "name": "ipython",
    "version": 3
   },
   "file_extension": ".py",
   "mimetype": "text/x-python",
   "name": "python",
   "nbconvert_exporter": "python",
   "pygments_lexer": "ipython3",
   "version": "3.11.3"
  }
 },
 "nbformat": 4,
 "nbformat_minor": 2
}
