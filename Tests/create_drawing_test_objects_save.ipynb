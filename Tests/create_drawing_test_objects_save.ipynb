{
 "cells": [
  {
   "cell_type": "code",
   "execution_count": 1,
   "metadata": {},
   "outputs": [],
   "source": [
    "from visiopy import loaded_docs, vInit"
   ]
  },
  {
   "cell_type": "code",
   "execution_count": 3,
   "metadata": {},
   "outputs": [
    {
     "name": "stdout",
     "output_type": "stream",
     "text": [
      "Instantiated the variables vApp, vDoc, vPg and vWin for the document Drawing1, \n",
      "as well as the variable c for the Visio constants\n"
     ]
    },
    {
     "data": {
      "text/plain": [
       "(<win32com.gen_py.Microsoft Visio 16.0 Type Library.IVApplication instance at 0x2858488335760>,\n",
       " <win32com.gen_py.Microsoft Visio 16.0 Type Library.IVDocument instance at 0x2858487854608>,\n",
       " <win32com.gen_py.Microsoft Visio 16.0 Type Library.IVPage instance at 0x2858488532752>,\n",
       " <win32com.gen_py.Microsoft Visio 16.0 Type Library.IVWindow instance at 0x2858488534224>)"
      ]
     },
     "execution_count": 3,
     "metadata": {},
     "output_type": "execute_result"
    }
   ],
   "source": [
    "# creating a blank drawing\n",
    "vInit(new=True, globals_dict=globals())"
   ]
  },
  {
   "cell_type": "code",
   "execution_count": 6,
   "metadata": {},
   "outputs": [
    {
     "data": {
      "text/plain": [
       "0"
      ]
     },
     "execution_count": 6,
     "metadata": {},
     "output_type": "execute_result"
    }
   ],
   "source": [
    "vDoc.SaveAs(FileName=r'D:\\Temp\\test_drawing.vsdx')"
   ]
  },
  {
   "cell_type": "markdown",
   "metadata": {},
   "source": [
    "### Let's setup the page\n",
    "Example: Landscape, A3, Fixed grid of 2.5 mm  \n",
    "How?  \n",
    "If you don't know the right code commands, do them first in Visio's interface and\n",
    "- record a macro\n",
    "- or consult the page's shapesheet\n",
    "\n",
    "In the shapesheet look after the modified cells. They have a blue font as oppsite to the unchange black ones.  \n",
    "For this example I identified: PageWidth, PageHeight, DrawingResizeType (no automatic resize), XGridSpacing, YGridSpacing.  "
   ]
  },
  {
   "cell_type": "code",
   "execution_count": 9,
   "metadata": {},
   "outputs": [],
   "source": [
    "# Fast creation of lists from strings and use in loops, instead of writing 5 times vPg...\n",
    "\n",
    "cells = \"PageWidth,PageHeight,DrawingResizeType,XGridSpacing,YGridSpacing\".split(',')\n",
    "vals = '420mm,297mm,2,2.5mm,2.5mm'.split(',')\n",
    "for i in range(5):\n",
    "    vPg.PageSheet.Cells(cells[i]).Formula = vals[i]"
   ]
  },
  {
   "cell_type": "code",
   "execution_count": null,
   "metadata": {},
   "outputs": [],
   "source": []
  }
 ],
 "metadata": {
  "kernelspec": {
   "display_name": "YG1",
   "language": "python",
   "name": "python3"
  },
  "language_info": {
   "codemirror_mode": {
    "name": "ipython",
    "version": 3
   },
   "file_extension": ".py",
   "mimetype": "text/x-python",
   "name": "python",
   "nbconvert_exporter": "python",
   "pygments_lexer": "ipython3",
   "version": "3.11.3"
  }
 },
 "nbformat": 4,
 "nbformat_minor": 2
}
